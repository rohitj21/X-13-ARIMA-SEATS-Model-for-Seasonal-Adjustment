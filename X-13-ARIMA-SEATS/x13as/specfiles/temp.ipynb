{
 "cells": [
  {
   "cell_type": "code",
   "execution_count": 7,
   "metadata": {},
   "outputs": [
    {
     "name": "stdout",
     "output_type": "stream",
     "text": [
      "   year  month  day\n",
      "0  2099     11   12\n"
     ]
    }
   ],
   "source": [
    "import requests\n",
    "import pandas as pd\n",
    "\n",
    "# API key and base URL\n",
    "api_key = \"HFTutIbi5lc5a4f6YoIqKrRsBwUX3VTx\"\n",
    "base_url = \"https://calendarific.com/api/v2/holidays\"\n",
    "\n",
    "# Initialize an empty list to store the data\n",
    "diwali_dates = []\n",
    "\n",
    "# Function to get Diwali dates and save them in the list\n",
    "def get_diwali_dates(year, api_key):\n",
    "    url = f\"{base_url}?&api_key={api_key}&country=IN&year={year}&type=religious\"\n",
    "    response = requests.get(url)\n",
    "\n",
    "    if response.status_code == 200:\n",
    "        data = response.json()\n",
    "        for holiday in data['response']['holidays']:\n",
    "            if 'Diwali' in holiday['name']:\n",
    "                date = holiday['date']['iso']\n",
    "                year, month, day = date.split('-')\n",
    "                diwali_dates.append({'year': int(year), 'month': int(month), 'day': int(day)})\n",
    "\n",
    "# Example: Fetch Diwali dates for multiple years\n",
    "for year in range(2099, 2100):\n",
    "    get_diwali_dates(year, api_key)\n",
    "    if(year -1900)%25 == 0:\n",
    "        print(year) \n",
    "\n",
    "# Convert the list of dictionaries to a pandas DataFrame\n",
    "diwali_df = pd.DataFrame(diwali_dates)\n",
    "\n",
    "# Display the DataFrame\n",
    "print(diwali_df)\n"
   ]
  },
  {
   "cell_type": "code",
   "execution_count": 6,
   "metadata": {},
   "outputs": [],
   "source": [
    "diwali_df.to_csv(\"diwali.csv\")"
   ]
  }
 ],
 "metadata": {
  "kernelspec": {
   "display_name": "globalenv",
   "language": "python",
   "name": "python3"
  },
  "language_info": {
   "codemirror_mode": {
    "name": "ipython",
    "version": 3
   },
   "file_extension": ".py",
   "mimetype": "text/x-python",
   "name": "python",
   "nbconvert_exporter": "python",
   "pygments_lexer": "ipython3",
   "version": "3.12.3"
  }
 },
 "nbformat": 4,
 "nbformat_minor": 2
}
